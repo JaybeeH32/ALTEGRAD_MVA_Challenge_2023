{
 "cells": [
  {
   "cell_type": "code",
   "execution_count": 25,
   "metadata": {},
   "outputs": [],
   "source": [
    "import torch\n",
    "import torch.nn as nn\n",
    "import torch.nn.functional as F\n",
    "from torch_geometric.nn import GIN, GINConv\n",
    "from torch_geometric.nn import global_mean_pool, global_add_pool\n",
    "from torch_geometric.loader import DataLoader\n",
    "\n",
    "from torch.utils.data import DataLoader as TorchDataLoader\n",
    "import numpy as np\n",
    "from pathlib import Path\n",
    "\n",
    "\n",
    "from libraries.dataloader import GraphDataset"
   ]
  },
  {
   "cell_type": "code",
   "execution_count": 39,
   "metadata": {},
   "outputs": [],
   "source": [
    "class GINEncoder(torch.nn.Module):\n",
    "    \"\"\"GIN\"\"\"\n",
    "    def __init__(self, dim_features, dim_h, dim_encode):\n",
    "        super(GINEncoder, self).__init__()\n",
    "        self.conv1 = GINConv(   nn.Sequential(nn.Linear(dim_features, dim_h),\n",
    "                                nn.BatchNorm1d(dim_h), nn.ReLU(),\n",
    "                                nn.Linear(dim_h, dim_h), nn.ReLU()))\n",
    "        self.conv2 = GINConv(nn.Sequential(nn.Linear(dim_h, dim_h),\n",
    "                                nn.BatchNorm1d(dim_h), nn.ReLU(),\n",
    "                                nn.Linear(dim_h, dim_h), nn.ReLU()))\n",
    "        self.conv3 = GINConv(\n",
    "            nn.Sequential(nn.Linear(dim_h, dim_h), nn.BatchNorm1d(dim_h), nn.ReLU(),\n",
    "                       nn.Linear(dim_h, dim_h), nn.ReLU()))\n",
    "        self.lin1 = nn.Linear(dim_h*3, dim_h*3)\n",
    "        self.lin2 = nn.Linear(dim_h*3, dim_encode)\n",
    "\n",
    "    def forward(self, graph_batch):\n",
    "        x = graph_batch.x\n",
    "        edge_index = graph_batch.edge_index\n",
    "        batch = graph_batch.batch\n",
    "        \n",
    "        # Node embeddings \n",
    "        h1 = self.conv1(x, edge_index)\n",
    "        h2 = self.conv2(h1, edge_index)\n",
    "        h3 = self.conv3(h2, edge_index)\n",
    "        # Graph-level readout\n",
    "        h1 = global_add_pool(h1, batch)\n",
    "        h2 = global_add_pool(h2, batch)\n",
    "        h3 = global_add_pool(h3, batch)\n",
    "        # Concatenate graph embeddings\n",
    "        h = torch.cat((h1, h2, h3), dim=1)\n",
    "        # Classifier\n",
    "        h = self.lin1(h)\n",
    "        h = h.relu()\n",
    "        h = F.dropout(h, p=0.5, training=self.training)\n",
    "        h = self.lin2(h)\n",
    "        \n",
    "        return h\n",
    "\n",
    "class GINDecoder(torch.nn.Module):\n",
    "    \"\"\"GIN\"\"\"\n",
    "    def __init__(self, dim_features, dim_h, dim_encode):\n",
    "        super(GIN, self).__init__()\n",
    "        self.conv1 = GINConv(   nn.Sequential(nn.Linear(dim_encode, dim_h),\n",
    "                                nn.BatchNorm1d(dim_h), nn.ReLU(),\n",
    "                                nn.Linear(dim_h, dim_h), nn.ReLU()))\n",
    "        self.conv2 = GINConv(nn.Sequential(nn.Linear(dim_h, dim_h),\n",
    "                                nn.BatchNorm1d(dim_h), nn.ReLU(),\n",
    "                                nn.Linear(dim_h, dim_h), nn.ReLU()))\n",
    "        self.conv3 = GINConv(\n",
    "            nn.Sequential(nn.Linear(dim_h, dim_h), nn.BatchNorm1d(dim_h), nn.ReLU(),\n",
    "                       nn.Linear(dim_h, dim_features), nn.ReLU()))\n",
    "        self.lin1 = nn.Linear(dim_encode, dim_h*3)\n",
    "        self.lin2 = nn.Linear(dim_h*3, dim_h*3)\n",
    "\n",
    "    def forward(self, x):\n",
    "        x = graph_batch.x\n",
    "        edge_index = graph_batch.edge_index\n",
    "        batch = graph_batch.batch\n",
    "        \n",
    "        # Node embeddings \n",
    "        h1 = self.conv1(x, edge_index)\n",
    "        h2 = self.conv2(h1, edge_index)\n",
    "        h3 = self.conv3(h2, edge_index)\n",
    "        # Graph-level readout\n",
    "        h1 = global_add_pool(h1, batch)\n",
    "        h2 = global_add_pool(h2, batch)\n",
    "        h3 = global_add_pool(h3, batch)\n",
    "        # Concatenate graph embeddings\n",
    "        h = torch.cat((h1, h2, h3), dim=1)\n",
    "        # Classifier\n",
    "        h = self.lin1(h)\n",
    "        h = h.relu()\n",
    "        h = F.dropout(h, p=0.5, training=self.training)\n",
    "        h = self.lin2(h)\n",
    "        \n",
    "        return h\n",
    "\n",
    "class VAE(nn.Module):\n",
    "    def __init__(self, input_size, hidden_size, latent_size):\n",
    "        super(VAE, self).__init__()\n",
    "\n",
    "        # Encoder\n",
    "        self.fc1 = nn.Linear(input_size, hidden_size)\n",
    "        self.fc21 = nn.Linear(hidden_size, latent_size)\n",
    "        self.fc22 = nn.Linear(hidden_size, latent_size)\n",
    "\n",
    "        # Decoder\n",
    "        self.fc3 = nn.Linear(latent_size, hidden_size)\n",
    "        self.fc4 = nn.Linear(hidden_size, input_size)\n",
    "\n",
    "    def encode(self, x):\n",
    "        h1 = F.relu(self.fc1(x))\n",
    "        return self.fc21(h1), self.fc22(h1)\n",
    "\n",
    "    def reparameterize(self, mu, logvar):\n",
    "        std = torch.exp(0.5*logvar)\n",
    "        eps = torch.randn_like(std)\n",
    "        return mu + eps*std\n",
    "\n",
    "    def decode(self, z):\n",
    "        h3 = F.relu(self.fc3(z))\n",
    "        return torch.sigmoid(self.fc4(h3))\n",
    "\n",
    "    def forward(self, x):\n",
    "        mu, logvar = self.encode(x.view(-1, 784))\n",
    "        z = self.reparameterize(mu, logvar)\n",
    "        return self.decode(z), mu, logvar\n",
    "\n",
    "# Instantiate the VAE model\n",
    "input_size = 784  # Adjust according to your input size\n",
    "hidden_size = 400\n",
    "latent_size = 20\n",
    "vae = VAE(input_size, hidden_size, latent_size)\n",
    "\n",
    "# Define the loss function (BCE loss for reconstruction and KLD loss for regularization)\n",
    "def loss_function(recon_x, x, mu, logvar):\n",
    "    BCE = F.binary_cross_entropy(recon_x, x.view(-1, 784), reduction='sum')\n",
    "\n",
    "    # Kullback-Leibler Divergence loss\n",
    "    KLD = -0.5 * torch.sum(1 + logvar - mu.pow(2) - logvar.exp())\n",
    "\n",
    "    return BCE + KLD\n",
    "\n"
   ]
  },
  {
   "cell_type": "code",
   "execution_count": 40,
   "metadata": {},
   "outputs": [],
   "source": [
    "batch_size = 32"
   ]
  },
  {
   "cell_type": "code",
   "execution_count": 41,
   "metadata": {},
   "outputs": [],
   "source": [
    "gt = np.load(\"./data/token_embedding_dict.npy\", allow_pickle=True)[()]\n",
    "val_dataset = GraphDataset(root=Path(Path.cwd(), 'data'), gt=gt, split='val')\n",
    "train_dataset = GraphDataset(root=Path(Path.cwd(), 'data'), gt=gt, split='train')\n",
    "\n",
    "val_loader = DataLoader(val_dataset, batch_size=batch_size, shuffle=True)\n",
    "train_loader = DataLoader(train_dataset, batch_size=batch_size, shuffle=True)"
   ]
  },
  {
   "cell_type": "code",
   "execution_count": 42,
   "metadata": {},
   "outputs": [],
   "source": [
    "model = GINEncoder(300, 300, 50)"
   ]
  },
  {
   "cell_type": "code",
   "execution_count": 50,
   "metadata": {},
   "outputs": [
    {
     "name": "stdout",
     "output_type": "stream",
     "text": [
      "DataBatch(x=[1171, 300], edge_index=[2, 2472], input_ids=[32, 256], attention_mask=[32, 256], batch=[1171], ptr=[33])\n",
      "0\n"
     ]
    }
   ],
   "source": [
    "maxi = 0\n",
    "for batch in train_loader:\n",
    "    print(batch)\n",
    "    input_ids = batch.input_ids\n",
    "    batch.pop('input_ids')\n",
    "    attention_mask = batch.attention_mask\n",
    "    batch.pop('attention_mask')\n",
    "    graph_batch = batch\n",
    "    out = model(graph_batch)\n",
    "    \n",
    "    break\n",
    "\n",
    "print(maxi)"
   ]
  },
  {
   "cell_type": "code",
   "execution_count": 52,
   "metadata": {},
   "outputs": [
    {
     "data": {
      "text/plain": [
       "tensor([[   0,    1,    1,  ..., 1146, 1166, 1157],\n",
       "        [   1,    0,    2,  ..., 1168, 1157, 1166]])"
      ]
     },
     "execution_count": 52,
     "metadata": {},
     "output_type": "execute_result"
    }
   ],
   "source": [
    "batch.edge_index"
   ]
  },
  {
   "cell_type": "code",
   "execution_count": 44,
   "metadata": {},
   "outputs": [
    {
     "data": {
      "text/plain": [
       "torch.Size([32, 50])"
      ]
     },
     "execution_count": 44,
     "metadata": {},
     "output_type": "execute_result"
    }
   ],
   "source": [
    "out.shape"
   ]
  }
 ],
 "metadata": {
  "kernelspec": {
   "display_name": "altegrad",
   "language": "python",
   "name": "python3"
  },
  "language_info": {
   "codemirror_mode": {
    "name": "ipython",
    "version": 3
   },
   "file_extension": ".py",
   "mimetype": "text/x-python",
   "name": "python",
   "nbconvert_exporter": "python",
   "pygments_lexer": "ipython3",
   "version": "3.11.5"
  }
 },
 "nbformat": 4,
 "nbformat_minor": 2
}
